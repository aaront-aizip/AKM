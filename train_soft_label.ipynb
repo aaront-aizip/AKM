{
 "cells": [
  {
   "cell_type": "code",
   "execution_count": 16,
   "id": "1a4fcac6",
   "metadata": {},
   "outputs": [],
   "source": [
    "import torch\n",
    "import torch.nn as nn\n",
    "import joblib\n",
    "\n",
    "\n",
    "#action: try GRU and transformer\n",
    "# try predicting middle patch, first patch (?) instead of last patch"
   ]
  },
  {
   "cell_type": "code",
   "execution_count": 17,
   "id": "143662f6",
   "metadata": {},
   "outputs": [
    {
     "data": {
      "text/plain": [
       "'cuda:0'"
      ]
     },
     "execution_count": 17,
     "metadata": {},
     "output_type": "execute_result"
    }
   ],
   "source": [
    "device = 'cuda:0' if torch.cuda.is_available() else 'cpu'\n",
    "modes = ['lstm', 'gru', 'transformer']\n",
    "mode = modes[2]\n",
    "torch.cuda.empty_cache()\n",
    "device"
   ]
  },
  {
   "cell_type": "code",
   "execution_count": 18,
   "id": "c3d0f911",
   "metadata": {},
   "outputs": [],
   "source": [
    "stride = 32\n",
    "patch_size = 32\n",
    "num_patches = 300\n",
    "# labels = 2\n",
    "hidden_size = 128"
   ]
  },
  {
   "cell_type": "code",
   "execution_count": 19,
   "id": "7ca69575",
   "metadata": {},
   "outputs": [
    {
     "name": "stderr",
     "output_type": "stream",
     "text": [
      "/tmp/ipykernel_2691473/3971775135.py:1: FutureWarning: You are using `torch.load` with `weights_only=False` (the current default value), which uses the default pickle module implicitly. It is possible to construct malicious pickle data which will execute arbitrary code during unpickling (See https://github.com/pytorch/pytorch/blob/main/SECURITY.md#untrusted-models for more details). In a future release, the default value for `weights_only` will be flipped to `True`. This limits the functions that could be executed during unpickling. Arbitrary objects will no longer be allowed to be loaded via this mode unless they are explicitly allowlisted by the user via `torch.serialization.add_safe_globals`. We recommend you start setting `weights_only=True` for any use case where you don't have full control of the loaded file. Please open an issue on GitHub for any issues related to this experimental feature.\n",
      "  X = torch.load(f'processed_data/X_soft_ps{patch_size}_np{num_patches}.pt')\n",
      "/tmp/ipykernel_2691473/3971775135.py:2: FutureWarning: You are using `torch.load` with `weights_only=False` (the current default value), which uses the default pickle module implicitly. It is possible to construct malicious pickle data which will execute arbitrary code during unpickling (See https://github.com/pytorch/pytorch/blob/main/SECURITY.md#untrusted-models for more details). In a future release, the default value for `weights_only` will be flipped to `True`. This limits the functions that could be executed during unpickling. Arbitrary objects will no longer be allowed to be loaded via this mode unless they are explicitly allowlisted by the user via `torch.serialization.add_safe_globals`. We recommend you start setting `weights_only=True` for any use case where you don't have full control of the loaded file. Please open an issue on GitHub for any issues related to this experimental feature.\n",
      "  y = torch.load(f'processed_data/y_soft_ps{patch_size}_np{num_patches}.pt')\n"
     ]
    },
    {
     "data": {
      "text/plain": [
       "(torch.Size([421958, 300, 32]), torch.Size([421958]))"
      ]
     },
     "execution_count": 19,
     "metadata": {},
     "output_type": "execute_result"
    }
   ],
   "source": [
    "X = torch.load(f'processed_data/X_soft_ps{patch_size}_np{num_patches}.pt')\n",
    "y = torch.load(f'processed_data/y_soft_ps{patch_size}_np{num_patches}.pt')\n",
    "\n",
    "# y = y.long()\n",
    "X = X.float()\n",
    "y = y.float()\n",
    "\n",
    "X_ = (X - torch.mean(X)) / torch.std(X)\n",
    "# if mode == 'transformer':\n",
    "#     X_ = X_.reshape(X_.shape[0], -1)\n",
    "# y_ = y[:, y.shape[-1] // 2] \n",
    "y_ = y[:, 0]\n",
    "# scaler = joblib.load('scalers/standard_scaler_4.gz')\n",
    "# X_ = scaler.transform(X.flatten().unsqueeze(-1)).reshape(X.shape)\n",
    "# X_ = torch.tensor(X_).float()\n",
    "# X_.shape\n",
    "# X_ = scaler.transform(X.reshape(-1, X.shape[-1])).reshape(X.shape)\n",
    "# X_ = torch.tensor(X_).float()\n",
    "# X_ = X_[:, :, -1]\n",
    "X_.shape, y_.shape"
   ]
  },
  {
   "cell_type": "code",
   "execution_count": 20,
   "id": "8d6ee96c",
   "metadata": {},
   "outputs": [
    {
     "name": "stdout",
     "output_type": "stream",
     "text": [
      "tensor([0., 0., 0.,  ..., 0., 0., 0.])\n"
     ]
    }
   ],
   "source": [
    "print(y_)"
   ]
  },
  {
   "cell_type": "code",
   "execution_count": 21,
   "id": "0832c387",
   "metadata": {},
   "outputs": [
    {
     "data": {
      "text/plain": [
       "tensor(0.0965)"
      ]
     },
     "execution_count": 21,
     "metadata": {},
     "output_type": "execute_result"
    }
   ],
   "source": [
    "avg = torch.mean(y_, dim=0)\n",
    "avg"
   ]
  },
  {
   "cell_type": "code",
   "execution_count": 22,
   "id": "4359c741",
   "metadata": {},
   "outputs": [
    {
     "name": "stdout",
     "output_type": "stream",
     "text": [
      "Train size: torch.Size([337566, 300, 32]), Test size: torch.Size([84392, 300, 32])\n"
     ]
    }
   ],
   "source": [
    "train_size = int(0.8 * X_.shape[0])\n",
    "X_train = X_[:train_size]\n",
    "y_train = y_[:train_size]\n",
    "X_val = X_[train_size:]\n",
    "y_val = y_[train_size:]\n",
    "\n",
    "print(f'Train size: {X_train.shape}, Test size: {X_val.shape}')"
   ]
  },
  {
   "cell_type": "code",
   "execution_count": 23,
   "id": "200d73e4",
   "metadata": {},
   "outputs": [
    {
     "data": {
      "text/plain": [
       "(75835, 8358)"
      ]
     },
     "execution_count": 23,
     "metadata": {},
     "output_type": "execute_result"
    }
   ],
   "source": [
    "len(y_val[y_val == 0]), len(y_val[y_val == 1])"
   ]
  },
  {
   "cell_type": "code",
   "execution_count": 24,
   "id": "4c3835c4",
   "metadata": {},
   "outputs": [],
   "source": [
    "from data_loader import BasicDataset\n",
    "\n",
    "train_dataset = BasicDataset(X_train, y_train)\n",
    "val_dataset = BasicDataset(X_val, y_val)"
   ]
  },
  {
   "cell_type": "code",
   "execution_count": 25,
   "id": "c43503cb",
   "metadata": {},
   "outputs": [],
   "source": [
    "from torch.utils.data import DataLoader\n",
    "\n",
    "batch_size = 64\n",
    "\n",
    "train_loader = DataLoader(train_dataset, batch_size=batch_size, shuffle=True)\n",
    "test_loader = DataLoader(val_dataset, batch_size=batch_size, shuffle=False)"
   ]
  },
  {
   "cell_type": "code",
   "execution_count": 26,
   "id": "03b8d224",
   "metadata": {},
   "outputs": [
    {
     "name": "stdout",
     "output_type": "stream",
     "text": [
      "torch.Size([64, 300, 32]) torch.Size([64])\n"
     ]
    }
   ],
   "source": [
    "for _, batch in enumerate(train_loader):\n",
    "    x_batch, y_batch = batch[0].to(device), batch[1].to(device)\n",
    "    print(x_batch.shape, y_batch.shape)\n",
    "    break"
   ]
  },
  {
   "cell_type": "code",
   "execution_count": 27,
   "id": "9b66c36f",
   "metadata": {},
   "outputs": [],
   "source": [
    "from model import GRU, LSTM, Transformer\n",
    "\n",
    "if mode == 'lstm':\n",
    "    model = LSTM(patch_size, hidden_size, 4, 0.1, device).to(device)\n",
    "elif mode == 'transformer':\n",
    "    model = Transformer(patch_size, 2, 0.3, device).to(device)\n",
    "elif mode == 'gru':\n",
    "    model = GRU(patch_size, hidden_size, 4, 0.3, device).to(device)\n",
    "\n",
    "# model.load_state_dict(torch.load(f'models/soft_label_model_ps{patch_size}_np{num_patches}_hs{hidden_size}.pt'))\n",
    "\n"
   ]
  },
  {
   "cell_type": "code",
   "execution_count": 32,
   "id": "9d95bcc8",
   "metadata": {},
   "outputs": [],
   "source": [
    "def train_one_epoch(epoch):\n",
    "    model.train()\n",
    "    print(f'Epoch: {epoch+1}')\n",
    "    running_loss = 0.0\n",
    "    tp = 0\n",
    "    fp = 0\n",
    "    tn = 0\n",
    "    fn = 0\n",
    "\n",
    "    for batch_index, batch in enumerate(train_loader):\n",
    "        x_batch, y_batch = batch[0].to(device), batch[1].to(device)\n",
    "\n",
    "        output = model(x_batch)\n",
    "        # print('output', output)\n",
    "        # print('shape', output.shape)\n",
    "        # output = output.view(-1, 3)\n",
    "\n",
    "        # print(output.shape, y_batch.shape)\n",
    "        # print(output.device, y_batch.device)\n",
    "        loss = loss_function(output, y_batch)\n",
    "        running_loss += loss.item()\n",
    "        pos = y_batch == 1\n",
    "        neg = y_batch == 0\n",
    "        if mode != 'transformer':\n",
    "            output = torch.sigmoid(output)\n",
    "    \n",
    "        tp += (output[pos] >= 0.5).sum().item()\n",
    "        fp += (output[pos] < 0.5).sum().item()\n",
    "        tn += (output[neg] < 0.5).sum().item()\n",
    "        fn += (output[neg] >= 0.5).sum().item()\n",
    "\n",
    "    \n",
    "        # correct += len(torch.where(torch.argmax(output, dim=-1) == y_batch.flatten())[0])\n",
    "        # ttl += len(x_batch)\n",
    "        optimizer.zero_grad()\n",
    "        loss.backward()\n",
    "        optimizer.step()\n",
    "        \n",
    "\n",
    "        if batch_index % 1000 == 999:\n",
    "            avg_loss_across_batches = running_loss / 1000\n",
    "            prec = tp / (tp + fp) if (tp + fp) > 0 else 0\n",
    "            recall = tp / (tp + fn) if (tp + fn) > 0 else 0\n",
    "            print('Batch {0}, Loss: {1:.3f}'.format(batch_index+1, avg_loss_across_batches))\n",
    "            # print('Batch {0}, Accuracy: {1:.3f}'.format(batch_index+1, correct/ttl))\n",
    "            print('Batch {0}, Precision: {1:.3f}, Recall: {2:.3f}'.format(batch_index+1, prec, recall))\n",
    "            tp = 0\n",
    "            fp = 0\n",
    "            tn = 0\n",
    "            fn = 0 \n",
    "            running_loss = 0.0\n",
    "    print()"
   ]
  },
  {
   "cell_type": "code",
   "execution_count": 29,
   "id": "3c5d9595",
   "metadata": {},
   "outputs": [],
   "source": [
    "def validate_one_epoch(epoch):\n",
    "    model.eval()\n",
    "    running_loss = 0.0\n",
    "    tp = 0\n",
    "    fp = 0\n",
    "    tn = 0\n",
    "    fn = 0\n",
    "\n",
    "    for batch_index, batch in enumerate(test_loader):\n",
    "        x_batch, y_batch = batch[0].to(device), batch[1].to(device)\n",
    "        \n",
    "        with torch.no_grad():\n",
    "            output = model(x_batch)\n",
    "            # print(output.shape, y_batch.shape)\n",
    "            loss = loss_function(output, y_batch)\n",
    "            if mode != 'transformer':\n",
    "                output = torch.sigmoid(output)\n",
    "            pos = y_batch == 1\n",
    "            neg = y_batch == 0\n",
    "        \n",
    "            tp += (output[pos] >= 0.5).sum().item()\n",
    "            fp += (output[pos] < 0.5).sum().item()\n",
    "            tn += (output[neg] < 0.5).sum().item()\n",
    "            fn += (output[neg] >= 0.5).sum().item()\n",
    "            # normal = torch.where(y_batch.flatten() == 0)\n",
    "            # anomaly = torch.where(y_batch.flatten() > 0)\n",
    "\n",
    "            # normal_correct += len(torch.where(torch.argmax(output[normal], dim=-1) == y_batch.flatten()[normal])[0])\n",
    "            # anomaly_correct += len(torch.where(torch.argmax(output[anomaly], dim=-1) == y_batch.flatten()[anomaly])[0])\n",
    "\n",
    "            # correct += len(torch.where(torch.argmax(output, dim=-1) == y_batch.flatten())[0])\n",
    "            # normal_ttl += len(normal[0])\n",
    "            # anomaly_ttl += len(anomaly[0])\n",
    "            # ttl += len(x_batch)\n",
    "            # correct += len(torch.where(torch.argmax(output, dim=-1) == y_batch.flatten())[0])\n",
    "            # ttl += len(x_batch)\n",
    "            running_loss += loss.item()\n",
    "    avg_loss_across_batches = running_loss / len(test_loader)\n",
    "\n",
    "    prec = tp / (tp + fp) if (tp + fp) > 0 else 0\n",
    "    recall = tp / (tp + fn) if (tp + fn) > 0 else 0\n",
    "\n",
    "    print('Val Loss: {0:.9f}'.format(avg_loss_across_batches))\n",
    "    print('Val Precision: {1:.3f}, Recall: {2:.3f}'.format(batch_index+1, prec, recall))\n",
    "    # print(ttl, y_test.size(0))\n",
    "    # print('Val Accuracy: {0:.9f}'.format(correct/ttl))\n",
    "    # print('Val Accuracy (correct normal predict): {0:.9f}'.format(normal_correct/normal_ttl))\n",
    "    # print('Val Accuracy (correct anomaly predict): {0:.9f}'.format(anomaly_correct/anomaly_ttl))\n",
    "    print('***************************************************')\n",
    "    print()"
   ]
  },
  {
   "cell_type": "code",
   "execution_count": 33,
   "id": "8d46d57c",
   "metadata": {},
   "outputs": [
    {
     "name": "stdout",
     "output_type": "stream",
     "text": [
      "Epoch: 1\n",
      "Batch 1000, Loss: 0.446\n",
      "Batch 1000, Precision: 0.006, Recall: 0.436\n",
      "Batch 2000, Loss: 0.451\n",
      "Batch 2000, Precision: 0.011, Recall: 0.429\n",
      "Batch 3000, Loss: 0.439\n",
      "Batch 3000, Precision: 0.006, Recall: 0.351\n",
      "Batch 4000, Loss: 0.442\n",
      "Batch 4000, Precision: 0.015, Recall: 0.396\n",
      "Batch 5000, Loss: 0.436\n",
      "Batch 5000, Precision: 0.008, Recall: 0.341\n",
      "\n",
      "Val Loss: 0.499170801\n",
      "Val Precision: 0.098, Recall: 0.323\n",
      "***************************************************\n",
      "\n",
      "Epoch: 2\n",
      "Batch 1000, Loss: 0.439\n",
      "Batch 1000, Precision: 0.009, Recall: 0.415\n",
      "Batch 2000, Loss: 0.445\n",
      "Batch 2000, Precision: 0.011, Recall: 0.428\n",
      "Batch 3000, Loss: 0.438\n",
      "Batch 3000, Precision: 0.008, Recall: 0.403\n",
      "Batch 4000, Loss: 0.437\n",
      "Batch 4000, Precision: 0.016, Recall: 0.451\n",
      "Batch 5000, Loss: 0.443\n",
      "Batch 5000, Precision: 0.010, Recall: 0.424\n",
      "\n",
      "Val Loss: 0.501721573\n",
      "Val Precision: 0.114, Recall: 0.322\n",
      "***************************************************\n",
      "\n",
      "Epoch: 3\n",
      "Batch 1000, Loss: 0.439\n",
      "Batch 1000, Precision: 0.012, Recall: 0.445\n",
      "Batch 2000, Loss: 0.443\n",
      "Batch 2000, Precision: 0.010, Recall: 0.476\n",
      "Batch 3000, Loss: 0.439\n",
      "Batch 3000, Precision: 0.008, Recall: 0.431\n",
      "Batch 4000, Loss: 0.432\n",
      "Batch 4000, Precision: 0.013, Recall: 0.429\n",
      "Batch 5000, Loss: 0.436\n",
      "Batch 5000, Precision: 0.012, Recall: 0.431\n",
      "\n",
      "Val Loss: 0.488270521\n",
      "Val Precision: 0.034, Recall: 0.442\n",
      "***************************************************\n",
      "\n",
      "Epoch: 4\n",
      "Batch 1000, Loss: 0.433\n",
      "Batch 1000, Precision: 0.009, Recall: 0.405\n",
      "Batch 2000, Loss: 0.439\n",
      "Batch 2000, Precision: 0.013, Recall: 0.490\n",
      "Batch 3000, Loss: 0.437\n",
      "Batch 3000, Precision: 0.009, Recall: 0.421\n",
      "Batch 4000, Loss: 0.439\n",
      "Batch 4000, Precision: 0.010, Recall: 0.455\n",
      "Batch 5000, Loss: 0.430\n",
      "Batch 5000, Precision: 0.013, Recall: 0.392\n",
      "\n",
      "Val Loss: 0.499625721\n",
      "Val Precision: 0.068, Recall: 0.411\n",
      "***************************************************\n",
      "\n",
      "Epoch: 5\n",
      "Batch 1000, Loss: 0.434\n",
      "Batch 1000, Precision: 0.014, Recall: 0.425\n",
      "Batch 2000, Loss: 0.438\n",
      "Batch 2000, Precision: 0.008, Recall: 0.374\n",
      "Batch 3000, Loss: 0.434\n",
      "Batch 3000, Precision: 0.011, Recall: 0.372\n",
      "Batch 4000, Loss: 0.433\n",
      "Batch 4000, Precision: 0.010, Recall: 0.414\n",
      "Batch 5000, Loss: 0.428\n",
      "Batch 5000, Precision: 0.016, Recall: 0.443\n",
      "\n",
      "Val Loss: 0.492104608\n",
      "Val Precision: 0.144, Recall: 0.325\n",
      "***************************************************\n",
      "\n",
      "Epoch: 6\n",
      "Batch 1000, Loss: 0.430\n",
      "Batch 1000, Precision: 0.019, Recall: 0.461\n",
      "Batch 2000, Loss: 0.432\n",
      "Batch 2000, Precision: 0.016, Recall: 0.455\n",
      "Batch 3000, Loss: 0.433\n",
      "Batch 3000, Precision: 0.014, Recall: 0.466\n",
      "Batch 4000, Loss: 0.426\n",
      "Batch 4000, Precision: 0.013, Recall: 0.487\n",
      "Batch 5000, Loss: 0.429\n",
      "Batch 5000, Precision: 0.020, Recall: 0.543\n",
      "\n",
      "Val Loss: 0.513580937\n",
      "Val Precision: 0.053, Recall: 0.438\n",
      "***************************************************\n",
      "\n",
      "Epoch: 7\n",
      "Batch 1000, Loss: 0.426\n",
      "Batch 1000, Precision: 0.014, Recall: 0.463\n",
      "Batch 2000, Loss: 0.430\n",
      "Batch 2000, Precision: 0.016, Recall: 0.488\n",
      "Batch 3000, Loss: 0.426\n",
      "Batch 3000, Precision: 0.021, Recall: 0.525\n",
      "Batch 4000, Loss: 0.426\n",
      "Batch 4000, Precision: 0.026, Recall: 0.536\n",
      "Batch 5000, Loss: 0.426\n",
      "Batch 5000, Precision: 0.029, Recall: 0.510\n",
      "\n",
      "Val Loss: 0.552863411\n",
      "Val Precision: 0.043, Recall: 0.468\n",
      "***************************************************\n",
      "\n",
      "Epoch: 8\n",
      "Batch 1000, Loss: 0.425\n",
      "Batch 1000, Precision: 0.029, Recall: 0.500\n",
      "Batch 2000, Loss: 0.419\n",
      "Batch 2000, Precision: 0.028, Recall: 0.505\n",
      "Batch 3000, Loss: 0.425\n",
      "Batch 3000, Precision: 0.031, Recall: 0.496\n",
      "Batch 4000, Loss: 0.420\n",
      "Batch 4000, Precision: 0.038, Recall: 0.520\n",
      "Batch 5000, Loss: 0.422\n",
      "Batch 5000, Precision: 0.038, Recall: 0.567\n",
      "\n",
      "Val Loss: 0.516367030\n",
      "Val Precision: 0.044, Recall: 0.440\n",
      "***************************************************\n",
      "\n",
      "Epoch: 9\n",
      "Batch 1000, Loss: 0.417\n",
      "Batch 1000, Precision: 0.039, Recall: 0.540\n",
      "Batch 2000, Loss: 0.417\n",
      "Batch 2000, Precision: 0.045, Recall: 0.567\n",
      "Batch 3000, Loss: 0.421\n",
      "Batch 3000, Precision: 0.047, Recall: 0.556\n",
      "Batch 4000, Loss: 0.426\n",
      "Batch 4000, Precision: 0.043, Recall: 0.516\n",
      "Batch 5000, Loss: 0.417\n",
      "Batch 5000, Precision: 0.046, Recall: 0.544\n",
      "\n",
      "Val Loss: 0.535781755\n",
      "Val Precision: 0.044, Recall: 0.497\n",
      "***************************************************\n",
      "\n",
      "Epoch: 10\n",
      "Batch 1000, Loss: 0.419\n",
      "Batch 1000, Precision: 0.052, Recall: 0.526\n",
      "Batch 2000, Loss: 0.415\n",
      "Batch 2000, Precision: 0.049, Recall: 0.604\n",
      "Batch 3000, Loss: 0.418\n",
      "Batch 3000, Precision: 0.058, Recall: 0.537\n",
      "Batch 4000, Loss: 0.417\n",
      "Batch 4000, Precision: 0.058, Recall: 0.579\n",
      "Batch 5000, Loss: 0.408\n",
      "Batch 5000, Precision: 0.058, Recall: 0.547\n",
      "\n",
      "Val Loss: 0.526090201\n",
      "Val Precision: 0.064, Recall: 0.462\n",
      "***************************************************\n",
      "\n"
     ]
    }
   ],
   "source": [
    "num_epochs = 10\n",
    "lr = 0.001\n",
    "# weights = torch.max(y_train.bincount()) / y_train.bincount()\n",
    "# print(weights, y_train.bincount())\n",
    "sigmoid = nn.Sigmoid()\n",
    "weights = torch.tensor([1.0, 10.0])\n",
    "if model == 'transformer':\n",
    "    loss_function = nn.MSELoss.to(device)\n",
    "else:\n",
    "    loss_function = nn.BCEWithLogitsLoss(pos_weight = torch.tensor([2.0])).to(device)\n",
    "optimizer = torch.optim.Adam(model.parameters(), lr=lr)\n",
    "\n",
    "for epoch in range(num_epochs):\n",
    "    train_one_epoch(epoch)\n",
    "    validate_one_epoch(epoch)"
   ]
  },
  {
   "cell_type": "code",
   "execution_count": 34,
   "id": "f6d216e4",
   "metadata": {},
   "outputs": [
    {
     "name": "stdout",
     "output_type": "stream",
     "text": [
      "torch.Size([300, 32])\n"
     ]
    },
    {
     "data": {
      "text/plain": [
       "(tensor([0.0106], device='cuda:0', grad_fn=<SigmoidBackward0>), tensor(0.))"
      ]
     },
     "execution_count": 34,
     "metadata": {},
     "output_type": "execute_result"
    }
   ],
   "source": [
    "print(train_dataset[0][0].shape)\n",
    "out = model(train_dataset[2100][0].unsqueeze(0).to(device))\n",
    "\n",
    "out = sigmoid(out)\n",
    "out, train_dataset[2100][1]"
   ]
  },
  {
   "cell_type": "code",
   "execution_count": 35,
   "id": "9fadf8ae",
   "metadata": {},
   "outputs": [
    {
     "data": {
      "text/plain": [
       "torch.Size([9173, 300, 32])"
      ]
     },
     "execution_count": 35,
     "metadata": {},
     "output_type": "execute_result"
    }
   ],
   "source": [
    "fn = -4\n",
    "st = fn*9173\n",
    "\n",
    "data = X_[st:st+9173]\n",
    "true = y_[st:st+9173]\n",
    "data.shape"
   ]
  },
  {
   "cell_type": "code",
   "execution_count": 36,
   "id": "54e72cd1",
   "metadata": {},
   "outputs": [],
   "source": [
    "out = []\n",
    "for i in range(0, len(data), num_patches):\n",
    "    out.append(model(data[i:i+num_patches].to(device)).detach().cpu())"
   ]
  },
  {
   "cell_type": "code",
   "execution_count": 37,
   "id": "e1eaee96",
   "metadata": {},
   "outputs": [
    {
     "data": {
      "text/plain": [
       "torch.Size([9173])"
      ]
     },
     "execution_count": 37,
     "metadata": {},
     "output_type": "execute_result"
    }
   ],
   "source": [
    "out = torch.cat(out)\n",
    "out = sigmoid(out)\n",
    "out.shape"
   ]
  },
  {
   "cell_type": "code",
   "execution_count": 38,
   "id": "3957b9f0",
   "metadata": {},
   "outputs": [],
   "source": [
    "# torch.save(model.state_dict(), f'models/soft_label_model_ps{patch_size}_np{num_patches}_hs{hidden_size}.pt')"
   ]
  },
  {
   "cell_type": "code",
   "execution_count": 39,
   "id": "058f9ca4",
   "metadata": {},
   "outputs": [
    {
     "data": {
      "text/plain": [
       "<matplotlib.legend.Legend at 0x7fd080a27760>"
      ]
     },
     "execution_count": 39,
     "metadata": {},
     "output_type": "execute_result"
    },
    {
     "data": {
      "image/png": "[encoded data removed]",
      "text/plain": [
       "<Figure size 640x480 with 1 Axes>"
      ]
     },
     "metadata": {},
     "output_type": "display_data"
    }
   ],
   "source": [
    "import matplotlib.pyplot as plt\n",
    "plt.plot(out, label='Predicted')\n",
    "plt.plot(true, label='True')\n",
    "plt.ylim(0, 1)\n",
    "plt.legend()"
   ]
  },
  {
   "cell_type": "code",
   "execution_count": 40,
   "id": "70ccd19f",
   "metadata": {},
   "outputs": [
    {
     "data": {
      "text/plain": [
       "(-10.0, 10.0)"
      ]
     },
     "execution_count": 40,
     "metadata": {},
     "output_type": "execute_result"
    },
    {
     "data": {
      "image/png": "[encoded data removed]",
      "text/plain": [
       "<Figure size 640x480 with 1 Axes>"
      ]
     },
     "metadata": {},
     "output_type": "display_data"
    }
   ],
   "source": [
    "import glob\n",
    "import numpy as np\n",
    "\n",
    "data = glob.glob('Data/*.npz')\n",
    "data.sort()\n",
    "lf = data[fn]\n",
    "inp = np.load(lf)['arr_0'][-1]\n",
    "# inp = scaler.transform(np.moveaxis(inp[1:], 0, -1))\n",
    "\n",
    "inp = (inp - np.mean(inp)) / np.std(inp)\n",
    "plt.plot(inp)\n",
    "plt.ylim(-10, 10)"
   ]
  }
 ],
 "metadata": {
  "kernelspec": {
   "display_name": "aaron",
   "language": "python",
   "name": "python3"
  },
  "language_info": {
   "codemirror_mode": {
    "name": "ipython",
    "version": 3
   },
   "file_extension": ".py",
   "mimetype": "text/x-python",
   "name": "python",
   "nbconvert_exporter": "python",
   "pygments_lexer": "ipython3",
   "version": "3.9.21"
  }
 },
 "nbformat": 4,
 "nbformat_minor": 5
}
