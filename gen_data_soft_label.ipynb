{
 "cells": [
  {
   "cell_type": "code",
   "execution_count": 12,
   "id": "38a49a19",
   "metadata": {},
   "outputs": [],
   "source": [
    "import pandas as pd\n",
    "import glob\n",
    "import numpy as np\n",
    "import torch\n",
    "import math"
   ]
  },
  {
   "cell_type": "code",
   "execution_count": 13,
   "id": "cacb8f27",
   "metadata": {},
   "outputs": [],
   "source": [
    "data = glob.glob('Data/*.npz')\n",
    "labels = glob.glob('Data/*.csv')\n",
    "data.sort()\n",
    "labels.sort()"
   ]
  },
  {
   "cell_type": "code",
   "execution_count": 14,
   "id": "f1fdbae7",
   "metadata": {},
   "outputs": [],
   "source": [
    "patch_size = 32\n",
    "num_patches = 100\n",
    "stride = 32\n",
    "X = []\n",
    "y = []"
   ]
  },
  {
   "cell_type": "code",
   "execution_count": 15,
   "id": "ab8e41fb",
   "metadata": {},
   "outputs": [
    {
     "name": "stdout",
     "output_type": "stream",
     "text": [
      "torch.Size([9373, 100, 32]) torch.Size([9373, 100, 2])\n",
      "torch.Size([9373, 100, 32]) torch.Size([9373, 100, 2])\n",
      "torch.Size([9373, 100, 32]) torch.Size([9373, 100, 2])\n",
      "torch.Size([9373, 100, 32]) torch.Size([9373, 100, 2])\n",
      "torch.Size([9373, 100, 32]) torch.Size([9373, 100, 2])\n",
      "torch.Size([9373, 100, 32]) torch.Size([9373, 100, 2])\n",
      "torch.Size([9373, 100, 32]) torch.Size([9373, 100, 2])\n",
      "torch.Size([9373, 100, 32]) torch.Size([9373, 100, 2])\n",
      "torch.Size([9373, 100, 32]) torch.Size([9373, 100, 2])\n",
      "torch.Size([9373, 100, 32]) torch.Size([9373, 100, 2])\n",
      "torch.Size([9373, 100, 32]) torch.Size([9373, 100, 2])\n",
      "torch.Size([9373, 100, 32]) torch.Size([9373, 100, 2])\n",
      "torch.Size([9373, 100, 32]) torch.Size([9373, 100, 2])\n",
      "torch.Size([9373, 100, 32]) torch.Size([9373, 100, 2])\n",
      "torch.Size([9373, 100, 32]) torch.Size([9373, 100, 2])\n",
      "torch.Size([9373, 100, 32]) torch.Size([9373, 100, 2])\n",
      "torch.Size([9373, 100, 32]) torch.Size([9373, 100, 2])\n",
      "torch.Size([9373, 100, 32]) torch.Size([9373, 100, 2])\n",
      "torch.Size([9373, 100, 32]) torch.Size([9373, 100, 2])\n",
      "torch.Size([9373, 100, 32]) torch.Size([9373, 100, 2])\n",
      "torch.Size([9373, 100, 32]) torch.Size([9373, 100, 2])\n",
      "torch.Size([9373, 100, 32]) torch.Size([9373, 100, 2])\n",
      "torch.Size([9373, 100, 32]) torch.Size([9373, 100, 2])\n",
      "torch.Size([9373, 100, 32]) torch.Size([9373, 100, 2])\n",
      "torch.Size([9373, 100, 32]) torch.Size([9373, 100, 2])\n",
      "torch.Size([9373, 100, 32]) torch.Size([9373, 100, 2])\n",
      "torch.Size([9373, 100, 32]) torch.Size([9373, 100, 2])\n",
      "torch.Size([9373, 100, 32]) torch.Size([9373, 100, 2])\n",
      "torch.Size([9373, 100, 32]) torch.Size([9373, 100, 2])\n",
      "torch.Size([9373, 100, 32]) torch.Size([9373, 100, 2])\n",
      "torch.Size([9373, 100, 32]) torch.Size([9373, 100, 2])\n",
      "torch.Size([9373, 100, 32]) torch.Size([9373, 100, 2])\n",
      "torch.Size([9373, 100, 32]) torch.Size([9373, 100, 2])\n",
      "torch.Size([9373, 100, 32]) torch.Size([9373, 100, 2])\n",
      "torch.Size([9373, 100, 32]) torch.Size([9373, 100, 2])\n",
      "torch.Size([9373, 100, 32]) torch.Size([9373, 100, 2])\n",
      "torch.Size([9373, 100, 32]) torch.Size([9373, 100, 2])\n",
      "torch.Size([9373, 100, 32]) torch.Size([9373, 100, 2])\n",
      "torch.Size([9373, 100, 32]) torch.Size([9373, 100, 2])\n",
      "torch.Size([9373, 100, 32]) torch.Size([9373, 100, 2])\n",
      "torch.Size([9373, 100, 32]) torch.Size([9373, 100, 2])\n",
      "torch.Size([9373, 100, 32]) torch.Size([9373, 100, 2])\n",
      "torch.Size([9373, 100, 32]) torch.Size([9373, 100, 2])\n",
      "torch.Size([9373, 100, 32]) torch.Size([9373, 100, 2])\n",
      "torch.Size([9373, 100, 32]) torch.Size([9373, 100, 2])\n",
      "torch.Size([9373, 100, 32]) torch.Size([9373, 100, 2])\n"
     ]
    }
   ],
   "source": [
    "for i in range(len(labels)):\n",
    "    arr = np.load(data[i])['arr_0']\n",
    "    \n",
    "    arr = torch.tensor(arr[-1])\n",
    "    lab = torch.zeros(len(arr))\n",
    "    arr = arr.unfold(0, patch_size, stride).unfold(0, num_patches, 1).movedim(-1, 1)\n",
    "    X.append(arr)\n",
    "\n",
    "    df = pd.read_csv(labels[i], header=None)\n",
    "    for i in range(len(df)):\n",
    "        lab[df.iloc[i,0]:df.iloc[i,1]] = df.iloc[i,2]\n",
    "    lab = lab.unfold(0, patch_size, stride).unfold(0, num_patches, 1).movedim(-1, 1)\n",
    "    anom_count = torch.count_nonzero(lab, dim=-1).float() / patch_size\n",
    "    norm_count = 1. - anom_count\n",
    "    lab_count = torch.stack((norm_count, anom_count), dim=-1)\n",
    "\n",
    "\n",
    "    y.append(anom_count)\n",
    "    # print(lab_count[9937, 0])\n",
    "    print(arr.shape, lab_count.shape)"
   ]
  },
  {
   "cell_type": "code",
   "execution_count": null,
   "id": "fc60fed8",
   "metadata": {},
   "outputs": [],
   "source": []
  },
  {
   "cell_type": "code",
   "execution_count": 16,
   "id": "e7bab51c",
   "metadata": {},
   "outputs": [],
   "source": [
    "X = torch.cat(X, dim=0)\n",
    "y = torch.cat(y, dim=0)"
   ]
  },
  {
   "cell_type": "code",
   "execution_count": 17,
   "id": "60aba71b",
   "metadata": {},
   "outputs": [
    {
     "data": {
      "text/plain": [
       "(torch.Size([431158, 100, 32]), torch.Size([431158, 100]))"
      ]
     },
     "execution_count": 17,
     "metadata": {},
     "output_type": "execute_result"
    }
   ],
   "source": [
    "X.shape, y.shape"
   ]
  },
  {
   "cell_type": "code",
   "execution_count": 18,
   "id": "bb24eb43",
   "metadata": {},
   "outputs": [],
   "source": [
    "torch.save(X, f'processed_data/X_soft_ps{patch_size}_np{num_patches}.pt')\n",
    "torch.save(y, f'processed_data/y_soft_ps{patch_size}_np{num_patches}.pt')"
   ]
  },
  {
   "cell_type": "code",
   "execution_count": 19,
   "id": "65c81b91",
   "metadata": {},
   "outputs": [
    {
     "data": {
      "text/plain": [
       "torch.Size([13942784])"
      ]
     },
     "execution_count": 19,
     "metadata": {},
     "output_type": "execute_result"
    }
   ],
   "source": [
    "X = []\n",
    "for i in range(len(labels)):\n",
    "    arr = np.load(data[i])['arr_0']\n",
    "    X.append(torch.tensor(arr[-1]))\n",
    "X = torch.cat(X)\n",
    "X.shape"
   ]
  },
  {
   "cell_type": "code",
   "execution_count": 20,
   "id": "b2215e66",
   "metadata": {},
   "outputs": [],
   "source": [
    "from sklearn.preprocessing import StandardScaler\n",
    "scaler = StandardScaler().fit(X.unsqueeze(-1))"
   ]
  },
  {
   "cell_type": "code",
   "execution_count": 21,
   "id": "6bda1028",
   "metadata": {},
   "outputs": [
    {
     "data": {
      "text/plain": [
       "(array([3.9900535e-06]), array([9.19630804e-07]))"
      ]
     },
     "execution_count": 21,
     "metadata": {},
     "output_type": "execute_result"
    }
   ],
   "source": [
    "scaler.mean_, scaler.var_"
   ]
  },
  {
   "cell_type": "code",
   "execution_count": 22,
   "id": "9b8aee08",
   "metadata": {},
   "outputs": [
    {
     "data": {
      "text/plain": [
       "['scalers/standard_scaler_4.gz']"
      ]
     },
     "execution_count": 22,
     "metadata": {},
     "output_type": "execute_result"
    }
   ],
   "source": [
    "import joblib\n",
    "\n",
    "joblib.dump(scaler, 'scalers/standard_scaler_4.gz')"
   ]
  }
 ],
 "metadata": {
  "kernelspec": {
   "display_name": "aaron",
   "language": "python",
   "name": "python3"
  },
  "language_info": {
   "codemirror_mode": {
    "name": "ipython",
    "version": 3
   },
   "file_extension": ".py",
   "mimetype": "text/x-python",
   "name": "python",
   "nbconvert_exporter": "python",
   "pygments_lexer": "ipython3",
   "version": "3.9.21"
  }
 },
 "nbformat": 4,
 "nbformat_minor": 5
}
